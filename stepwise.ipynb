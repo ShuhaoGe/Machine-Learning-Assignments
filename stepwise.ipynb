{
 "cells": [
  {
   "cell_type": "code",
   "execution_count": 17,
   "metadata": {},
   "outputs": [
    {
     "name": "stderr",
     "output_type": "stream",
     "text": [
      "/Users/geshuhao/anaconda3/lib/python3.6/site-packages/IPython/core/interactiveshell.py:2698: DtypeWarning: Columns (2,17,33,37,955,956,957,962,976,977,982) have mixed types. Specify dtype option on import or set low_memory=False.\n",
      "  interactivity=interactivity, compiler=compiler, result=result)\n"
     ]
    }
   ],
   "source": [
    "import pandas as pd\n",
    "import numpy as np\n",
    "import os\n",
    "\n",
    "os.getcwd()\n",
    "\n",
    "data=pd.read_csv('compustat_annual_2000_2017_with link information.csv')\n"
   ]
  },
  {
   "cell_type": "code",
   "execution_count": 15,
   "metadata": {},
   "outputs": [
    {
     "name": "stdout",
     "output_type": "stream",
     "text": [
      "(108683, 370)\n",
      "   GVKEY  LPERMNO  LPERMCO    LINKDT  datadate   fyear  ajex  ajp  currtr  \\\n",
      "0   1004    54594    20000  19720424  20000531  1999.0   1.0  1.0     1.0   \n",
      "1   1004    54594    20000  19720424  20010531  2000.0   1.0  1.0     1.0   \n",
      "2   1004    54594    20000  19720424  20020531  2001.0   1.0  1.0     1.0   \n",
      "3   1004    54594    20000  19720424  20030531  2002.0   1.0  1.0     1.0   \n",
      "4   1004    54594    20000  19720424  20040531  2003.0   1.0  1.0     1.0   \n",
      "\n",
      "   fyr     ...      gsector     gsubind     naics  priusa   sic  spcindcd  \\\n",
      "0  5.0     ...         20.0  20101010.0  423860.0       1  5080     110.0   \n",
      "1  5.0     ...         20.0  20101010.0  423860.0       1  5080     110.0   \n",
      "2  5.0     ...         20.0  20101010.0  423860.0       1  5080     110.0   \n",
      "3  5.0     ...         20.0  20101010.0  423860.0       1  5080     110.0   \n",
      "4  5.0     ...         20.0  20101010.0  423860.0       1  5080     110.0   \n",
      "\n",
      "   spcseccd  stko  dldte     ipodate  \n",
      "0     925.0   0.0    NaN  19880101.0  \n",
      "1     925.0   0.0    NaN  19880101.0  \n",
      "2     925.0   0.0    NaN  19880101.0  \n",
      "3     925.0   0.0    NaN  19880101.0  \n",
      "4     925.0   0.0    NaN  19880101.0  \n",
      "\n",
      "[5 rows x 370 columns]\n"
     ]
    }
   ],
   "source": [
    "missing_percentage=data.isnull().sum()/data.shape[0]\n",
    "data1=data.loc[:,missing_percentage<0.7]\n",
    "data2=data1._get_numeric_data()\n",
    "data3=data2.fillna(data2.median())\n",
    "print(data3.shape)\n",
    "print(data2.head(5))"
   ]
  },
  {
   "cell_type": "code",
   "execution_count": 27,
   "metadata": {},
   "outputs": [
    {
     "name": "stdout",
     "output_type": "stream",
     "text": [
      "(108683,)\n"
     ]
    }
   ],
   "source": [
    "msk = np.random.rand(len(data)) < 0.8\n",
    "train = data3[msk]\n",
    "test = data3[~msk]"
   ]
  },
  {
   "cell_type": "code",
   "execution_count": 49,
   "metadata": {},
   "outputs": [],
   "source": [
    "y= train.loc[:,'oiadp']"
   ]
  },
  {
   "cell_type": "code",
   "execution_count": 46,
   "metadata": {},
   "outputs": [],
   "source": [
    "X=train.loc[:,train.columns!='oiadp']"
   ]
  },
  {
   "cell_type": "code",
   "execution_count": null,
   "metadata": {},
   "outputs": [],
   "source": []
  },
  {
   "cell_type": "code",
   "execution_count": 47,
   "metadata": {},
   "outputs": [],
   "source": [
    "from sklearn.datasets import load_boston\n",
    "import pandas as pd\n",
    "import numpy as np\n",
    "import statsmodels.api as sm"
   ]
  },
  {
   "cell_type": "code",
   "execution_count": null,
   "metadata": {},
   "outputs": [
    {
     "name": "stdout",
     "output_type": "stream",
     "text": [
      "Add  txs                            with p-value 0.0\n",
      "Add  nopi                           with p-value 0.0\n",
      "Add  txndba                         with p-value 0.0\n",
      "Add  ceq                            with p-value 0.0\n",
      "Add  txdc                           with p-value 0.0\n",
      "Add  ibadj                          with p-value 0.0\n",
      "Add  ao                             with p-value 0.0\n",
      "Add  ivncf                          with p-value 0.0\n",
      "Add  prstkc                         with p-value 0.0\n",
      "Add  dd                             with p-value 0.0\n",
      "Add  csho                           with p-value 0.0\n",
      "Add  ebit                           with p-value 0.0\n",
      "Drop prstkc                         with p-value 0.961321\n"
     ]
    }
   ],
   "source": [
    "def stepwise_selection(X, y, \n",
    "                       initial_list=[], \n",
    "                       threshold_in=0.05, \n",
    "                       threshold_out = 0.05, \n",
    "                       verbose=True):\n",
    "\n",
    "    included = list(initial_list)\n",
    "    while True:\n",
    "        changed=False\n",
    "        # forward step\n",
    "        excluded = list(set(X.columns)-set(included))\n",
    "        new_pval = pd.Series(index=excluded)\n",
    "        for new_column in excluded:\n",
    "            model = sm.OLS(y, sm.add_constant(pd.DataFrame(X[included+[new_column]]))).fit()\n",
    "            new_pval[new_column] = model.pvalues[new_column]\n",
    "            best_pval = new_pval.min()\n",
    "        if best_pval < threshold_in:\n",
    "            best_feature = new_pval.argmin()\n",
    "            included.append(best_feature)\n",
    "            changed=True\n",
    "            if verbose:\n",
    "                print('Add  {:30} with p-value {:.6}'.format(best_feature, best_pval))\n",
    "\n",
    "        # backward step\n",
    "        model = sm.OLS(y, sm.add_constant(pd.DataFrame(X[included]))).fit()\n",
    "        # use all coefs except intercept\n",
    "        pvalues = model.pvalues.iloc[1:]\n",
    "        worst_pval = pvalues.max() # null if pvalues is empty\n",
    "        if worst_pval > threshold_out:\n",
    "            changed=True\n",
    "            worst_feature = pvalues.argmax()\n",
    "            included.remove(worst_feature)\n",
    "            if verbose:\n",
    "                print('Drop {:30} with p-value {:.6}'.format(worst_feature, worst_pval))\n",
    "        if not changed:\n",
    "            break\n",
    "    return included\n",
    "\n",
    "result = stepwise_selection(X, y)\n",
    "\n",
    "print('resulting features:')\n",
    "print(result)\n"
   ]
  },
  {
   "cell_type": "code",
   "execution_count": null,
   "metadata": {
    "collapsed": true
   },
   "outputs": [],
   "source": []
  }
 ],
 "metadata": {
  "kernelspec": {
   "display_name": "Python 3",
   "language": "python",
   "name": "python3"
  },
  "language_info": {
   "codemirror_mode": {
    "name": "ipython",
    "version": 3
   },
   "file_extension": ".py",
   "mimetype": "text/x-python",
   "name": "python",
   "nbconvert_exporter": "python",
   "pygments_lexer": "ipython3",
   "version": "3.6.3"
  }
 },
 "nbformat": 4,
 "nbformat_minor": 2
}
